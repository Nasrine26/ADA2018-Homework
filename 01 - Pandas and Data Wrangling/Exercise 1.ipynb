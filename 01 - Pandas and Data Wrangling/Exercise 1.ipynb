{
 "cells": [
  {
   "cell_type": "markdown",
   "metadata": {},
   "source": [
    "# Exercise 1\n",
    " <p><div class=\"lev1\"><a href=\"#Task-A.-Another-LEGO-brick-in-the-wall\"><span class=\"toc-item-num\">Task A.&nbsp;&nbsp;</span>Another LEGO brick in the wall</a></div>\n",
    " <p><div class=\"lev1\"><a href=\"#Task-B.-Drop-the-Bike\"><span class=\"toc-item-num\">Task B.&nbsp;&nbsp;</span>Drop the Bike</a></div>"
   ]
  },
  {
   "cell_type": "code",
   "execution_count": 1,
   "metadata": {},
   "outputs": [],
   "source": [
    "# Imports \n",
    "import pandas as pd\n",
    "import glob # library to get a list of files matching a pattern\n",
    "import re\n",
    "import matplotlib.pyplot as plt\n",
    "import numpy as np\n",
    "from datetime import datetime\n",
    "from time import strftime\n",
    "import struct\n",
    "import matplotlib\n",
    "from os import listdir\n",
    "\n",
    "%matplotlib inline"
   ]
  },
  {
   "cell_type": "code",
   "execution_count": 2,
   "metadata": {},
   "outputs": [
    {
     "data": {
      "application/javascript": [
       "//remove nb_present toolbar at bottom of page\n",
       "$('.nbp-app-bar').toggle()"
      ],
      "text/plain": [
       "<IPython.core.display.Javascript object>"
      ]
     },
     "metadata": {},
     "output_type": "display_data"
    }
   ],
   "source": [
    "%%javascript\n",
    "//remove nb_present toolbar at bottom of page\n",
    "$('.nbp-app-bar').toggle()"
   ]
  },
  {
   "cell_type": "code",
   "execution_count": 3,
   "metadata": {},
   "outputs": [],
   "source": [
    "def list_files(directory, extension):\n",
    "    return (f for f in listdir(directory) if f.endswith('.' + extension))"
   ]
  },
  {
   "cell_type": "code",
   "execution_count": 4,
   "metadata": {},
   "outputs": [],
   "source": [
    "DATA_FOLDER = 'data'"
   ]
  },
  {
   "cell_type": "markdown",
   "metadata": {},
   "source": [
    "## Task A. Another LEGO brick in the wall\n",
    "\n",
    "LEGO is a popular brand of toy building bricks. They are often sold in sets in order to build a specific object. Each set contains a number of parts in different shapes, sizes and colors. This database contains information on which parts are included in different LEGO sets. It was originally compiled to help people who owned some LEGO sets already figure out what other sets they could build with the pieces they had.\n",
    "\n",
    "This dataset contains the official LEGO colors, parts, inventories (i.e., sets of LEGO parts which assembled create an object in the LEGO world) and sets (i.e., sets of LEGO inventories which assembled create a LEGO ecosystem). The schema of the dataset can be shown in the following UML diagram: \n",
    "\n",
    "![lego-schema](lego-schema.png)\n",
    "\n",
    "In this task you have to apply the following Data Wrangling pipeline:\n",
    "1. Load your data into `Pandas`\n",
    "* Explore it and clean its dirty parts\n",
    "* Use it to answer a set of queries\n",
    "\n",
    "Each of these subtasks are described in detail below."
   ]
  },
  {
   "cell_type": "markdown",
   "metadata": {},
   "source": [
    "### A1. Loading phase\n",
    "Load all the csv files into different `DataFrames`. Use meaningful names for your `DataFrames` (e.g., the respective filenames).\n",
    "\n",
    "*Hint: You can load files without first unzipping them (for `Pandas` version >= 0.18.1).*"
   ]
  },
  {
   "cell_type": "code",
   "execution_count": 5,
   "metadata": {},
   "outputs": [],
   "source": [
    "LEGO_DATA_FOLDER = DATA_FOLDER + '/lego'"
   ]
  },
  {
   "cell_type": "code",
   "execution_count": 6,
   "metadata": {},
   "outputs": [],
   "source": [
    "# create a for loop to load all files without unzipping them?\n",
    "fileList = list_files(LEGO_DATA_FOLDER, \"zip\")\n",
    "files = list(fileList)\n",
    "\n",
    "# extract file name only to name each dataframe \n",
    "db_names = [re.search('(?<=)(.*)(?=.csv)', file).group() for file in files] # group fct gives string of regex\n",
    "\n",
    "# initialise a lego_db dictionary containing as keys the filenames\n",
    "lego_db = dict.fromkeys(db_names) \n",
    "\n",
    "# give to dataframes the filenames = keys of dictionary lego_db\n",
    "# key: dataframe name value: corresponding csv.file\n",
    "for name, file in zip(db_names, files): \n",
    "    lego_db[name] = pd.read_csv(LEGO_DATA_FOLDER+'/'+file, compression=\"zip\")"
   ]
  },
  {
   "cell_type": "markdown",
   "metadata": {},
   "source": [
    "### A2. Cleaning phase\n",
    "Explore the following columns from your dataset:\n",
    "\n",
    "1. sets: year\n",
    "* inventory_parts: quantity\n",
    "\n",
    "What is the time range of the sets? \n",
    "What is the average quantity of the inventory parts? \n",
    "Do you see any inconsistencies? \n",
    "Provide code that detects and cleans such inconsistencies and validates the coherence of your dataset. "
   ]
  },
  {
   "cell_type": "markdown",
   "metadata": {},
   "source": [
    "__\\* Briefly explain your approach here \\*__\n",
    "\n"
   ]
  },
  {
   "cell_type": "markdown",
   "metadata": {},
   "source": [
    "First we look at the values to visualize if there are any aberrant or inconsistent values present in *inventory_parts* and *sets*. We compute the max, min, average and unique values. We observe that for *year* field in *sets* negative values and ill-formatted years are present. For *inventory_parts* field *quantity* the average is -inf."
   ]
  },
  {
   "cell_type": "code",
   "execution_count": 7,
   "metadata": {},
   "outputs": [
    {
     "name": "stdout",
     "output_type": "stream",
     "text": [
      "Time range of sets[year] (min, max): ('-1962', '80s')\n",
      "Average of inventory parts[quantity]: -inf\n",
      "\n",
      " Unique values of sets[year] \n",
      "\n",
      "{'-1979', '1977', '-20122', '2004', '2012', '1998', '-1987', '-20144', '1988', '-1982', '19722', '19877', '-20100', '1986', '1985', '-2006', '-1997', '-1993', '-1994', '1999', '20111', '1955', '70s', '-20166', '1987', '20066', '1996', '-2010', '-1975', '2015', '1956', '20177', '19955', '19988', '1982', '2002', '1994', '-2001', '-2013', '2003', '2005', '-2002', '1973', '19699', '19855', '1971', '-1988', '1983', '-20111', '20044', '1974', '-1966', '1959', '19833', '-1998', '19899', '19911', '2000', '19866', '-1980', '20077', '19822', '19777', '20122', '-1977', '-20155', '20011', '19788', '20155', '-1999', '-20099', '-20033', '19977', '1964', '20000', '1958', '-2007', '1967', '-19977', '1995', '1984', '2014', '-2009', '2016', '2006', '1957', '1960', '20022', '-1984', '1968', '-2004', '1979', '2010', '20133', '2017', '-2017', '19555', '-2016', '-2011', '-2014', '19922', '-1992', '-2015', '2001', '1978', '19800', '2013', '1992', '-2003', '1976', '-1981', '-1989', '-1996', '19933', '1961', '1953', '20144', '1997', '-1991', '1991', '19811', '-20011', '-1986', '20099', '1975', '1989', '19944', '19900', '1990', '-1983', '-1995', '20088', '19622', '19799', '1950', '-20133', '-2000', '-2008', '2007', '-1973', '1969', '1963', '2008', '-20066', '20033', '19888', '-2005', '20100', '2011', '2009', '-2012', '-20077', '-1962', '-20000', '-20022', '19966', '20055', '1993', '1962', '1954', '-20044', '-1969', '1966', '20166', '1972', '19844', '1965', '1981', '-1971', '19999', '-1985', '-19999', '19666', '80s'}\n",
      "\n",
      " Unique values of inventory_parts[quantity] \n",
      "\n",
      "{1.0, 3.0, 4.0, 5.0, 6.0, 7.0, 8.0, 9.0, 10.0, 11.0, 12.0, 13.0, 14.0, 15.0, 16.0, 17.0, 18.0, 19.0, 20.0, 21.0, 22.0, 23.0, 24.0, 25.0, 26.0, 27.0, 28.0, 29.0, 30.0, 31.0, 32.0, 33.0, 34.0, 35.0, 36.0, 37.0, 38.0, 39.0, 40.0, 41.0, 42.0, 43.0, 44.0, 45.0, 46.0, 47.0, 48.0, 49.0, 50.0, 51.0, 52.0, 53.0, 54.0, 55.0, 56.0, 57.0, 58.0, 59.0, 60.0, 61.0, 62.0, 63.0, 64.0, 65.0, 66.0, 67.0, 68.0, 69.0, 70.0, 71.0, 72.0, 73.0, 74.0, 75.0, 76.0, 77.0, 78.0, 79.0, 80.0, 81.0, 82.0, 83.0, 84.0, 85.0, 86.0, 87.0, 88.0, 89.0, 90.0, 91.0, 92.0, 93.0, 94.0, 95.0, 96.0, 97.0, 98.0, 99.0, 100.0, 101.0, 102.0, 103.0, 104.0, 106.0, 107.0, 108.0, 109.0, 110.0, 111.0, 112.0, 113.0, 114.0, 115.0, 116.0, 117.0, 118.0, 119.0, 120.0, 121.0, 630.0, 124.0, 125.0, 126.0, 127.0, 128.0, 129.0, 130.0, 131.0, 132.0, 133.0, 134.0, 136.0, 137.0, 138.0, 139.0, 140.0, 142.0, 144.0, 145.0, 146.0, 147.0, 148.0, 149.0, 150.0, 151.0, 1170.0, 154.0, 155.0, 156.0, 540.0, 158.0, 159.0, 162.0, 164.0, 166.0, 169.0, 170.0, 172.0, 173.0, 174.0, 175.0, 178.0, 180.0, 181.0, 182.0, 183.0, 184.0, 185.0, 516.0, 188.0, 190.0, 192.0, 193.0, 195.0, 200.0, 203.0, 204.0, 205.0, 208.0, -inf, 720.0, 211.0, 724.0, 209.0, 214.0, 212.0, 216.0, 219.0, 220.0, 222.0, 227.0, 230.0, 231.0, 234.0, 235.0, 236.0, 238.0, 556.0, 240.0, 241.0, 242.0, 243.0, 245.0, 252.0, 253.0, 254.0, 771.0, 260.0, 268.0, 270.0, 272.0, 275.0, 276.0, 285.0, 288.0, 296.0, 810.0, 300.0, 304.0, 317.0, 322.0, 327.0, 344.0, 346.0, 350.0, 360.0, 374.0, 380.0, 388.0, 900.0, 400.0, 415.0, 1440.0, 450.0, 451.0, 457.0, 460.0, 495.0, 509.0}\n"
     ]
    }
   ],
   "source": [
    "range_sets_year = (lego_db[\"sets\"][\"year\"].min(), lego_db[\"sets\"][\"year\"].max())\n",
    "print(\"Time range of sets[year] (min, max): {}\".format(range_sets_year))\n",
    "\n",
    "average_inventory_parts_quantity = lego_db[\"inventory_parts\"][\"quantity\"].mean()\n",
    "print(\"Average of inventory parts[quantity]: {}\".format(average_inventory_parts_quantity))\n",
    "\n",
    "unique_sets_year = set(lego_db[\"sets\"][\"year\"].tolist())\n",
    "unique_inventory_parts_quantity = set(lego_db[\"inventory_parts\"][\"quantity\"].tolist())\n",
    "\n",
    "print(\"\\n Unique values of sets[year] \\n\")\n",
    "print(unique_sets_year)\n",
    "print(\"\\n Unique values of inventory_parts[quantity] \\n\")\n",
    "print(unique_inventory_parts_quantity)\n"
   ]
  },
  {
   "cell_type": "markdown",
   "metadata": {},
   "source": [
    "**Problematic values.**\n",
    "Before removing inconsistences, we define and quantify problematic values: \n",
    "1. *year* = (neg, char not number (eg. 80s), \\> 4 numbers): we extract accepted values as those having exactly 4 digits\n",
    "2. *quantity* = -inf : we extract accepted values as those having only digits\n",
    "\n",
    "We extract problematic values by negating accepted values. \n"
   ]
  },
  {
   "cell_type": "code",
   "execution_count": 8,
   "metadata": {},
   "outputs": [],
   "source": [
    "# define aberrant values : year aberrant values: {neg, char, > 4 numbers}\n",
    "# 1. match year all years that do not have exactly 4 digits \n",
    "accepted_values_year = set([re.match(\"\\d{4}\",ele).group() for ele in lego_db['sets'].year \n",
    "                                if re.match(\"\\d{4}\",ele) ]) \n",
    "# 2. match quantity that are digits\n",
    "accepted_values_quantities = set([re.match(\"\\d+\", str(ele)).group() for ele in lego_db['inventory_parts'].quantity\n",
    "                                 if re.match(\"\\d+\", str(ele))])"
   ]
  },
  {
   "cell_type": "code",
   "execution_count": 9,
   "metadata": {},
   "outputs": [],
   "source": [
    "# extract problematic values only by negating accepted values\n",
    "problematic_years = lego_db['sets'][~lego_db[\"sets\"].year.isin(accepted_values_year)].year\n",
    "\n",
    "# quantities: select problematic values and group by quantities\n",
    "problematic_quantities_idx = ~lego_db[\"inventory_parts\"].quantity.isin(accepted_values_quantities)\n",
    "problematic_quantities = lego_db['inventory_parts'][\"quantity\"][problematic_quantities_idx]"
   ]
  },
  {
   "cell_type": "markdown",
   "metadata": {},
   "source": [
    "**Aberrant values**. We want to remove all aberrant values containing strings: \n",
    "1. Years (eg. 70s, 80s)\n",
    "2. Quantities (eg. -inf)\n",
    "\n",
    "We first visualize a histogram of the frequency of such values to see if removing these data would lead to too much data loss."
   ]
  },
  {
   "cell_type": "code",
   "execution_count": 10,
   "metadata": {},
   "outputs": [
    {
     "name": "stdout",
     "output_type": "stream",
     "text": [
      "Aberrant quantity values to be removed: {-inf}\n"
     ]
    }
   ],
   "source": [
    "aberrant_years_idx = [True if re.search(\"[a-z]\",ele) else False for ele in problematic_years]\n",
    "\n",
    "print(\"Aberrant quantity values to be removed: {}\".format(\n",
    "    set(lego_db['inventory_parts'][problematic_quantities_idx].quantity)))"
   ]
  },
  {
   "cell_type": "code",
   "execution_count": 11,
   "metadata": {},
   "outputs": [],
   "source": [
    "aberrant_years = problematic_years.iloc[aberrant_years_idx]"
   ]
  },
  {
   "cell_type": "code",
   "execution_count": 12,
   "metadata": {},
   "outputs": [],
   "source": [
    "# group by only values that have string 70s, 80s.\n",
    "aberrant_years_groupby = aberrant_years.groupby(aberrant_years.values).size()"
   ]
  },
  {
   "cell_type": "code",
   "execution_count": 13,
   "metadata": {},
   "outputs": [],
   "source": [
    "# quantities: group by values having -inf to see if few values or many have such quantity value\n",
    "aberrant_quantities_groupby = problematic_quantities.groupby(problematic_quantities).size()"
   ]
  },
  {
   "cell_type": "code",
   "execution_count": 14,
   "metadata": {},
   "outputs": [
    {
     "data": {
      "text/plain": [
       "quantity\n",
       "-inf    161796\n",
       "Name: quantity, dtype: int64"
      ]
     },
     "execution_count": 14,
     "metadata": {},
     "output_type": "execute_result"
    }
   ],
   "source": [
    "aberrant_quantities_groupby"
   ]
  },
  {
   "cell_type": "code",
   "execution_count": 15,
   "metadata": {},
   "outputs": [
    {
     "data": {
      "image/png": "[encoded data removed]",
      "text/plain": [
       "<Figure size 540x360 with 2 Axes>"
      ]
     },
     "metadata": {},
     "output_type": "display_data"
    }
   ],
   "source": [
    "# histogram of frequency of aberrant values \n",
    "fig, axes = plt.subplots(nrows=1,ncols=2, figsize=(7.5, 5)) # subplots\n",
    "\n",
    "fig.subplots_adjust(wspace = 0.3)\n",
    "\n",
    "axes[0].bar(aberrant_years_groupby.index, \n",
    "            aberrant_years_groupby.values*100/len(lego_db['sets'].index))\n",
    "axes[0].set(title = \"Year\", ylabel=\"Relative frequency [%]\", xlabel=\"Aberrant values\")\n",
    "\n",
    "axes[1].bar(\"-inf\", \n",
    "            aberrant_quantities_groupby.values*100/len(lego_db['inventory_parts'].index))\n",
    "\n",
    "axes[1].set(title = \"Quantity\", ylabel=\"Relative frequency [%]\", xlabel=\"Aberrant values\")\n",
    "\n",
    "fig.suptitle(\"Relative aberrant frequencies\")\n",
    "\n",
    "plt.show()"
   ]
  },
  {
   "cell_type": "markdown",
   "metadata": {},
   "source": [
    "After aberrant values quantification, we now process the problematic values. \n",
    "\n",
    "For the year:\n",
    "1. Remove years containing strings because we don't know the year (eg. 80s)\n",
    "2. Remove the - sign because systematic error due to non-uniform data entry formatting\n",
    "3. Select only the 4 first digits out of 5. It seems again a systematic error: we assume last digit was a typo (eg. 19622 -> 1962)\n",
    "4. Find years < 1931 (1932 founding date of LEGO) and years > 2019 after having quantified data loss and change them to 0\n",
    "\n",
    "For quantity: we cannot remove all -inf entries as they represent >25% of the quantity field. We remplace them by 0 and convert to int because a quantity is an integer. "
   ]
  },
  {
   "cell_type": "code",
   "execution_count": null,
   "metadata": {},
   "outputs": [],
   "source": []
  },
  {
   "cell_type": "code",
   "execution_count": 16,
   "metadata": {},
   "outputs": [
    {
     "name": "stdout",
     "output_type": "stream",
     "text": [
      "We have removed all entries containing string years Empty DataFrame\n",
      "Columns: [id, name, year, theme_id, num_parts]\n",
      "Index: []\n"
     ]
    }
   ],
   "source": [
    "# 1.\n",
    "lego_db['sets'].drop(aberrant_years.index, inplace=True)\n",
    "\n",
    "\n",
    "print(\"We have removed all entries containing string years {}\".format(\n",
    "    lego_db['sets'][lego_db['sets'].year.isin([\"80s\",\"70s\"])])\n",
    "     )"
   ]
  },
  {
   "cell_type": "code",
   "execution_count": 17,
   "metadata": {},
   "outputs": [],
   "source": [
    "# 2. remove - character (considered as typo)\n",
    "lego_db['sets'].year = lego_db['sets'].year.astype(np.uint16)"
   ]
  },
  {
   "cell_type": "code",
   "execution_count": 18,
   "metadata": {
    "scrolled": true
   },
   "outputs": [],
   "source": [
    "# 3. replace 5 digits to 4 first digits\n",
    "lego_db['sets'].year = lego_db['sets'].year.map(\n",
    "    lambda ele: np.uint16(re.match(\"\\d{4}\", str(ele)).group())\n",
    ")"
   ]
  },
  {
   "cell_type": "code",
   "execution_count": 19,
   "metadata": {},
   "outputs": [],
   "source": [
    "# 4. condition: valid years < 1931 or > 2019 \n",
    "# all years that are not \"valid\" years need to be replaced to 0\n",
    "\n",
    "lego_db['sets'].year.where(\n",
    "    ((lego_db['sets'].year > 1931) & (lego_db['sets'].year < 2019)), other=0, inplace=True\n",
    ")"
   ]
  },
  {
   "cell_type": "markdown",
   "metadata": {},
   "source": [
    "For quantity: we replace -inf by 0. We notice that there is no 0 quantity in the data so we assume that -inf means 0."
   ]
  },
  {
   "cell_type": "code",
   "execution_count": 20,
   "metadata": {},
   "outputs": [],
   "source": [
    "# replace all quantities that are -inf to -1\n",
    "lego_db['inventory_parts'].quantity = lego_db['inventory_parts'].quantity.where(\n",
    "    lego_db['inventory_parts'].quantity != float('-inf'), other=0, inplace=False\n",
    ").astype(dtype=np.int16)"
   ]
  },
  {
   "cell_type": "markdown",
   "metadata": {},
   "source": [
    "### A3. Querying phase\n",
    "Answer the following queries using the functionality of `Pandas`:\n",
    "\n",
    "1. List the ids of the inventories that belong to sets that contain cars. (*Hint: Find a smart way to distinguish which sets contain cars based on the sets' name*).\n",
    "* Plot the distribution of part categories as a (horizontal) bar chart. Restrict yourself to the 20 largest part categories (in terms of the number of parts belonging to the category).\n",
    "* Find the dominant color of each set. Then, plot using a (horizontal) bar chart, the number of sets per dominant color. Color each bar with the respective color that it represents.\n",
    "* Create a scatter plot of the *luminance*\\* of the sets vs their publishing year. What do you observe for the years 1980-1981? How do you interpret what you see?\n",
    "\n",
    "\\*The luminance of a color is a [measure of brightness](https://en.wikipedia.org/wiki/Luminance) which, given its RGB representation, can be computed as follows:\n",
    "\n",
    "$luminance = \\sqrt{0.299*R^2 + 0.587*G^2 + 0.114*B^2}$"
   ]
  },
  {
   "cell_type": "markdown",
   "metadata": {},
   "source": [
    "#### Query 1"
   ]
  },
  {
   "cell_type": "code",
   "execution_count": 21,
   "metadata": {
    "scrolled": false
   },
   "outputs": [
    {
     "name": "stderr",
     "output_type": "stream",
     "text": [
      "C:\\ProgramData\\Anaconda3\\lib\\site-packages\\ipykernel_launcher.py:4: UserWarning: This pattern has match groups. To actually get the groups, use str.extract.\n",
      "  after removing the cwd from sys.path.\n"
     ]
    },
    {
     "data": {
      "text/html": [
       "<div>\n",
       "<style scoped>\n",
       "    .dataframe tbody tr th:only-of-type {\n",
       "        vertical-align: middle;\n",
       "    }\n",
       "\n",
       "    .dataframe tbody tr th {\n",
       "        vertical-align: top;\n",
       "    }\n",
       "\n",
       "    .dataframe thead th {\n",
       "        text-align: right;\n",
       "    }\n",
       "</style>\n",
       "<table border=\"1\" class=\"dataframe\">\n",
       "  <thead>\n",
       "    <tr style=\"text-align: right;\">\n",
       "      <th></th>\n",
       "      <th>id</th>\n",
       "      <th>name</th>\n",
       "      <th>year</th>\n",
       "      <th>theme_id</th>\n",
       "      <th>num_parts</th>\n",
       "    </tr>\n",
       "  </thead>\n",
       "  <tbody>\n",
       "    <tr>\n",
       "      <th>27</th>\n",
       "      <td>10002-1</td>\n",
       "      <td>Railroad Club Car</td>\n",
       "      <td>2001</td>\n",
       "      <td>233</td>\n",
       "      <td>272</td>\n",
       "    </tr>\n",
       "    <tr>\n",
       "      <th>50</th>\n",
       "      <td>10022-1</td>\n",
       "      <td>Santa Fe Cars - Set II (dining, observation, o...</td>\n",
       "      <td>2002</td>\n",
       "      <td>237</td>\n",
       "      <td>410</td>\n",
       "    </tr>\n",
       "    <tr>\n",
       "      <th>53</th>\n",
       "      <td>10025-1</td>\n",
       "      <td>Santa Fe Cars - Set I (mail or baggage car)</td>\n",
       "      <td>2002</td>\n",
       "      <td>237</td>\n",
       "      <td>325</td>\n",
       "    </tr>\n",
       "    <tr>\n",
       "      <th>142</th>\n",
       "      <td>10158-1</td>\n",
       "      <td>High Speed Train Car</td>\n",
       "      <td>2004</td>\n",
       "      <td>239</td>\n",
       "      <td>151</td>\n",
       "    </tr>\n",
       "    <tr>\n",
       "      <th>154</th>\n",
       "      <td>10170-1</td>\n",
       "      <td>TTX Intermodal Double-Stack Car</td>\n",
       "      <td>2005</td>\n",
       "      <td>236</td>\n",
       "      <td>365</td>\n",
       "    </tr>\n",
       "  </tbody>\n",
       "</table>\n",
       "</div>"
      ],
      "text/plain": [
       "          id                                               name  year  \\\n",
       "27   10002-1                                  Railroad Club Car  2001   \n",
       "50   10022-1  Santa Fe Cars - Set II (dining, observation, o...  2002   \n",
       "53   10025-1        Santa Fe Cars - Set I (mail or baggage car)  2002   \n",
       "142  10158-1                               High Speed Train Car  2004   \n",
       "154  10170-1                    TTX Intermodal Double-Stack Car  2005   \n",
       "\n",
       "     theme_id  num_parts  \n",
       "27        233        272  \n",
       "50        237        410  \n",
       "53        237        325  \n",
       "142       239        151  \n",
       "154       236        365  "
      ]
     },
     "execution_count": 21,
     "metadata": {},
     "output_type": "execute_result"
    }
   ],
   "source": [
    "# Query 1 \n",
    "set(lego_db['sets'].name)\n",
    "\n",
    "cars = lego_db['sets'][lego_db['sets'].name.str.contains('(\\w{3,}car($|[[:space:]])|Car($|[[:space:]]|s))')]\n",
    "\n",
    "cars.head()"
   ]
  },
  {
   "cell_type": "code",
   "execution_count": 22,
   "metadata": {},
   "outputs": [
    {
     "data": {
      "text/plain": [
       "111     528\n",
       "167     908\n",
       "253    1371\n",
       "254    1371\n",
       "263    1401\n",
       "Name: inventory_id, dtype: int64"
      ]
     },
     "execution_count": 22,
     "metadata": {},
     "output_type": "execute_result"
    }
   ],
   "source": [
    "invetoryIDsWithCars = lego_db['inventory_sets'][lego_db['inventory_sets']['set_id'].isin(cars['id'])]['inventory_id'];\n",
    "invetoryIDsWithCars.head()"
   ]
  },
  {
   "cell_type": "markdown",
   "metadata": {},
   "source": [
    "#### Query 2\n",
    "To distribution of part categories as a (horizontal) bar chart, we:\n",
    "1. We count the number of *id* from *parts* grouped by *part_cat_id* to find the number of parts belonging to each category. We order the groups by their number of *id* and select the top 20. So we have selected the 20 largest part categories in terms of number of parts belonging to the category.\n",
    "2. We select the *name* corresponding to the *part_cat_id* by joining the table to *part categories* on *part_cat_id*. Results obtained are sorted in descending fashion according to number of parts \n",
    "3.  plot distribution of part categories with a horizontal bar plot"
   ]
  },
  {
   "cell_type": "code",
   "execution_count": 23,
   "metadata": {},
   "outputs": [
    {
     "data": {
      "image/png": "[encoded data removed]",
      "text/plain": [
       "<Figure size 720x576 with 1 Axes>"
      ]
     },
     "metadata": {},
     "output_type": "display_data"
    }
   ],
   "source": [
    "# Query 2\n",
    "# 1. Select count(id) from parts group by part_cat_id order by count(id) desc fetch first 20 \n",
    "\n",
    "grouped_part_cat_id_best20 = lego_db['parts'].groupby(\n",
    "    'part_cat_id').size().to_frame('count').sort_values('count', ascending = False).iloc[:20]\n",
    "\n",
    "# 2. Select part_categories.name, parts.count\n",
    "# from part_categories inner join parts on parts.part_cat_id = part_categories.id\n",
    "\n",
    "part_categories_best20 = lego_db['part_categories'].merge(\n",
    "    grouped_part_cat_id_best20, \n",
    "    left_on= 'id', \n",
    "    right_on= 'part_cat_id', \n",
    "    how= 'inner'\n",
    ")[['name','count']].sort_values('count', ascending = False)\n",
    "\n",
    "# plot distribution of part categories (horizontal bar plot)\n",
    "fig, ax = plt.subplots(figsize=(10,8))\n",
    "\n",
    "y_pos = part_categories_best20['name'].values\n",
    "x_pos = part_categories_best20['count'].values\n",
    "ax.barh(\n",
    "    y_pos, \n",
    "    x_pos, \n",
    "    align='center',\n",
    "    color='green'\n",
    ")\n",
    "\n",
    "ax.set_yticks(y_pos)\n",
    "ax.set_yticklabels(y_pos, {'fontsize': 14})\n",
    "\n",
    "ax.invert_yaxis()  # labels read top-to-bottom\n",
    "ax.set_xlabel(\n",
    "    'Number of parts', \n",
    "    {'fontsize': 16}, \n",
    "    labelpad=15\n",
    ")\n",
    "ax.set_title(\n",
    "    'Distribution of part categories',\n",
    "    {'fontsize': 20},\n",
    "    pad=20\n",
    ")\n",
    "\n",
    "plt.show()"
   ]
  },
  {
   "cell_type": "markdown",
   "metadata": {},
   "source": [
    "#### Query 3 \n",
    "\n",
    "We assume that the attribute *quantity* of the *inventory_set* table is the number of set present in the inventory. Therefore, we won't use it to compute the dominant color for each set, because the quantity is to respect of the set present in the inventory.\n",
    "\n",
    "1. To find the dominant colour for each *set*, we first join *inventory sets* with *inventory parts* on *inventory id* to find the parts that compose each set.\n",
    "2. We group by *set id*, *colour id* and sum quantity according to the *colour id* and *set id*. \n",
    "3. Extract dominant *colour id* per set according to maximal summed quantity \n",
    "4. Merge resulting table with *colours* to retrieve dominant colour *name* for each set according respective dominant *colour id*"
   ]
  },
  {
   "cell_type": "code",
   "execution_count": 24,
   "metadata": {},
   "outputs": [
    {
     "data": {
      "image/png": "[encoded data removed]",
      "text/plain": [
       "<Figure size 720x576 with 1 Axes>"
      ]
     },
     "metadata": {},
     "output_type": "display_data"
    }
   ],
   "source": [
    "# Query 3\n",
    "# 1. merge inv_sets with inv_parts \n",
    "sets_parts_join = lego_db['inventory_sets'].merge(\n",
    "    lego_db['inventory_parts'], \n",
    "    on='inventory_id',\n",
    "    how='inner'\n",
    ")[['set_id', 'color_id', 'quantity_y']]\n",
    "\n",
    "# 2. group by set_id and color_id and sum quantities to the color_id and set_id\n",
    "sets_parts_grouped = sets_parts_join.groupby(['set_id', 'color_id']).aggregate(np.sum)\n",
    "\n",
    "# 3. extract the dominant color_id per set\n",
    "set_dominant_color_id = sets_parts_grouped.groupby('set_id').aggregate(\n",
    "    lambda x: x.idxmax()[1]\n",
    ").rename({'quantity_y': 'set_dominant_color_id'}, axis=1)\n",
    "\n",
    "# 4. Merge with color table to retrieve color names from color_id\n",
    "set_dominant_color = set_dominant_color_id.reset_index().merge(\n",
    "    lego_db['colors'],\n",
    "    right_on='id',\n",
    "    left_on='set_dominant_color_id',\n",
    "    how='inner'\n",
    ")[['set_id', 'name', 'rgb']]\n",
    "\n",
    "# 5. plot using a (horizontal) bar chart, the number of sets per dominant color. \n",
    "# Color each bar with the respective color that it represents.\n",
    "set_dominant_color_grouped = set_dominant_color.groupby(['name','rgb']).size().to_frame('Number_sets').reset_index()\n",
    "\n",
    "# transform hex code in rgb field to rgb code and later in plot use convert to_rgb.\n",
    "rgb_conversion = lambda rgbstr: tuple([ele/255 for ele in list(struct.unpack('BBB', bytes.fromhex(rgbstr)))])\n",
    "set_dominant_color_grouped.rgb = set_dominant_color_grouped.rgb.map(rgb_conversion)\n",
    "\n",
    "fig, ax = plt.subplots(figsize=(10,8))\n",
    "\n",
    "ax.barh(\n",
    "    set_dominant_color_grouped['name'].values, \n",
    "    set_dominant_color_grouped['Number_sets'].values.ravel(),\n",
    "    color = [matplotlib.colors.to_rgb(x) for x in set_dominant_color_grouped.rgb]\n",
    ")\n",
    "\n",
    "ax.set_yticks(set_dominant_color_grouped['name'].values)\n",
    "ax.set_yticklabels(set_dominant_color_grouped['name'].values, {'fontsize': 14})\n",
    "\n",
    "ax.invert_yaxis()  # labels read top-to-bottom\n",
    "ax.set_xlabel(\n",
    "    'Number of sets', \n",
    "    {'fontsize': 16}, \n",
    "    labelpad=15\n",
    ")\n",
    "ax.set_title(\n",
    "    'Number of sets per dominant color',\n",
    "    {'fontsize': 20},\n",
    "    pad=20\n",
    ")\n",
    "\n",
    "ax.set_facecolor('xkcd:silver')\n",
    "\n",
    "plt.show()"
   ]
  },
  {
   "cell_type": "markdown",
   "metadata": {},
   "source": [
    "#### Query 4\n",
    "First convert dominant colors of the output of query 3 into rgb: the dominant colors for each sets are converted into rgb. Same procedure was carried out in plotting of query 3 but with another table."
   ]
  },
  {
   "cell_type": "code",
   "execution_count": 25,
   "metadata": {},
   "outputs": [
    {
     "data": {
      "text/html": [
       "<div>\n",
       "<style scoped>\n",
       "    .dataframe tbody tr th:only-of-type {\n",
       "        vertical-align: middle;\n",
       "    }\n",
       "\n",
       "    .dataframe tbody tr th {\n",
       "        vertical-align: top;\n",
       "    }\n",
       "\n",
       "    .dataframe thead th {\n",
       "        text-align: right;\n",
       "    }\n",
       "</style>\n",
       "<table border=\"1\" class=\"dataframe\">\n",
       "  <thead>\n",
       "    <tr style=\"text-align: right;\">\n",
       "      <th></th>\n",
       "      <th>set_id</th>\n",
       "      <th>name</th>\n",
       "      <th>rgb</th>\n",
       "    </tr>\n",
       "  </thead>\n",
       "  <tbody>\n",
       "    <tr>\n",
       "      <th>164</th>\n",
       "      <td>8582-1</td>\n",
       "      <td>Flat Dark Gold</td>\n",
       "      <td>(180, 132, 85)</td>\n",
       "    </tr>\n",
       "    <tr>\n",
       "      <th>165</th>\n",
       "      <td>8583-1</td>\n",
       "      <td>Flat Dark Gold</td>\n",
       "      <td>(180, 132, 85)</td>\n",
       "    </tr>\n",
       "    <tr>\n",
       "      <th>166</th>\n",
       "      <td>8584-1</td>\n",
       "      <td>Flat Dark Gold</td>\n",
       "      <td>(180, 132, 85)</td>\n",
       "    </tr>\n",
       "    <tr>\n",
       "      <th>167</th>\n",
       "      <td>8585-1</td>\n",
       "      <td>Flat Dark Gold</td>\n",
       "      <td>(180, 132, 85)</td>\n",
       "    </tr>\n",
       "    <tr>\n",
       "      <th>168</th>\n",
       "      <td>8586-1</td>\n",
       "      <td>Flat Dark Gold</td>\n",
       "      <td>(180, 132, 85)</td>\n",
       "    </tr>\n",
       "  </tbody>\n",
       "</table>\n",
       "</div>"
      ],
      "text/plain": [
       "     set_id            name             rgb\n",
       "164  8582-1  Flat Dark Gold  (180, 132, 85)\n",
       "165  8583-1  Flat Dark Gold  (180, 132, 85)\n",
       "166  8584-1  Flat Dark Gold  (180, 132, 85)\n",
       "167  8585-1  Flat Dark Gold  (180, 132, 85)\n",
       "168  8586-1  Flat Dark Gold  (180, 132, 85)"
      ]
     },
     "execution_count": 25,
     "metadata": {},
     "output_type": "execute_result"
    }
   ],
   "source": [
    "rgb_conversion = lambda rgbstr: struct.unpack('BBB', bytes.fromhex(rgbstr))\n",
    "set_dominant_color.rgb = set_dominant_color.rgb.apply(rgb_conversion)\n",
    "set_dominant_color.tail()"
   ]
  },
  {
   "cell_type": "markdown",
   "metadata": {},
   "source": [
    "Then, compute the  luminance of the dominant colors for each sets."
   ]
  },
  {
   "cell_type": "code",
   "execution_count": 26,
   "metadata": {},
   "outputs": [
    {
     "data": {
      "text/html": [
       "<div>\n",
       "<style scoped>\n",
       "    .dataframe tbody tr th:only-of-type {\n",
       "        vertical-align: middle;\n",
       "    }\n",
       "\n",
       "    .dataframe tbody tr th {\n",
       "        vertical-align: top;\n",
       "    }\n",
       "\n",
       "    .dataframe thead th {\n",
       "        text-align: right;\n",
       "    }\n",
       "</style>\n",
       "<table border=\"1\" class=\"dataframe\">\n",
       "  <thead>\n",
       "    <tr style=\"text-align: right;\">\n",
       "      <th></th>\n",
       "      <th>set_id</th>\n",
       "      <th>name</th>\n",
       "      <th>rgb</th>\n",
       "      <th>luminescence</th>\n",
       "    </tr>\n",
       "  </thead>\n",
       "  <tbody>\n",
       "    <tr>\n",
       "      <th>164</th>\n",
       "      <td>8582-1</td>\n",
       "      <td>Flat Dark Gold</td>\n",
       "      <td>(180, 132, 85)</td>\n",
       "      <td>144.010895</td>\n",
       "    </tr>\n",
       "    <tr>\n",
       "      <th>165</th>\n",
       "      <td>8583-1</td>\n",
       "      <td>Flat Dark Gold</td>\n",
       "      <td>(180, 132, 85)</td>\n",
       "      <td>144.010895</td>\n",
       "    </tr>\n",
       "    <tr>\n",
       "      <th>166</th>\n",
       "      <td>8584-1</td>\n",
       "      <td>Flat Dark Gold</td>\n",
       "      <td>(180, 132, 85)</td>\n",
       "      <td>144.010895</td>\n",
       "    </tr>\n",
       "    <tr>\n",
       "      <th>167</th>\n",
       "      <td>8585-1</td>\n",
       "      <td>Flat Dark Gold</td>\n",
       "      <td>(180, 132, 85)</td>\n",
       "      <td>144.010895</td>\n",
       "    </tr>\n",
       "    <tr>\n",
       "      <th>168</th>\n",
       "      <td>8586-1</td>\n",
       "      <td>Flat Dark Gold</td>\n",
       "      <td>(180, 132, 85)</td>\n",
       "      <td>144.010895</td>\n",
       "    </tr>\n",
       "  </tbody>\n",
       "</table>\n",
       "</div>"
      ],
      "text/plain": [
       "     set_id            name             rgb  luminescence\n",
       "164  8582-1  Flat Dark Gold  (180, 132, 85)    144.010895\n",
       "165  8583-1  Flat Dark Gold  (180, 132, 85)    144.010895\n",
       "166  8584-1  Flat Dark Gold  (180, 132, 85)    144.010895\n",
       "167  8585-1  Flat Dark Gold  (180, 132, 85)    144.010895\n",
       "168  8586-1  Flat Dark Gold  (180, 132, 85)    144.010895"
      ]
     },
     "execution_count": 26,
     "metadata": {},
     "output_type": "execute_result"
    }
   ],
   "source": [
    "luminescence = lambda x: np.sqrt(0.299*x[0]**2+0.587*x[1]**2+0.114*x[2]**2)\n",
    "set_dominant_color['luminescence'] = set_dominant_color.rgb.apply(luminescence)\n",
    "set_dominant_color.tail()"
   ]
  },
  {
   "cell_type": "markdown",
   "metadata": {},
   "source": [
    "Join the *sets* table to retrieve the year at which sets were pubblished."
   ]
  },
  {
   "cell_type": "code",
   "execution_count": 27,
   "metadata": {},
   "outputs": [
    {
     "data": {
      "text/html": [
       "<div>\n",
       "<style scoped>\n",
       "    .dataframe tbody tr th:only-of-type {\n",
       "        vertical-align: middle;\n",
       "    }\n",
       "\n",
       "    .dataframe tbody tr th {\n",
       "        vertical-align: top;\n",
       "    }\n",
       "\n",
       "    .dataframe thead th {\n",
       "        text-align: right;\n",
       "    }\n",
       "</style>\n",
       "<table border=\"1\" class=\"dataframe\">\n",
       "  <thead>\n",
       "    <tr style=\"text-align: right;\">\n",
       "      <th></th>\n",
       "      <th>luminescence</th>\n",
       "      <th>year</th>\n",
       "    </tr>\n",
       "  </thead>\n",
       "  <tbody>\n",
       "    <tr>\n",
       "      <th>143</th>\n",
       "      <td>144.010895</td>\n",
       "      <td>2003</td>\n",
       "    </tr>\n",
       "    <tr>\n",
       "      <th>144</th>\n",
       "      <td>144.010895</td>\n",
       "      <td>2003</td>\n",
       "    </tr>\n",
       "    <tr>\n",
       "      <th>145</th>\n",
       "      <td>144.010895</td>\n",
       "      <td>2003</td>\n",
       "    </tr>\n",
       "    <tr>\n",
       "      <th>146</th>\n",
       "      <td>144.010895</td>\n",
       "      <td>2003</td>\n",
       "    </tr>\n",
       "    <tr>\n",
       "      <th>147</th>\n",
       "      <td>144.010895</td>\n",
       "      <td>2003</td>\n",
       "    </tr>\n",
       "  </tbody>\n",
       "</table>\n",
       "</div>"
      ],
      "text/plain": [
       "     luminescence  year\n",
       "143    144.010895  2003\n",
       "144    144.010895  2003\n",
       "145    144.010895  2003\n",
       "146    144.010895  2003\n",
       "147    144.010895  2003"
      ]
     },
     "execution_count": 27,
     "metadata": {},
     "output_type": "execute_result"
    }
   ],
   "source": [
    "set_dominant_color_year = set_dominant_color.merge(\n",
    "    lego_db['sets'][lego_db['sets'].year != 0],\n",
    "    left_on='set_id',\n",
    "    right_on='id',\n",
    "    how='inner'\n",
    ")[['luminescence', 'year']]\n",
    "\n",
    "set_dominant_color_year.tail()"
   ]
  },
  {
   "cell_type": "code",
   "execution_count": 28,
   "metadata": {
    "scrolled": true
   },
   "outputs": [
    {
     "data": {
      "image/png": "[encoded data removed]",
      "text/plain": [
       "<Figure size 1440x720 with 2 Axes>"
      ]
     },
     "metadata": {},
     "output_type": "display_data"
    }
   ],
   "source": [
    "fig, ax = plt.subplots(nrows=1, ncols=2, figsize=(20,10))\n",
    "ax[0].scatter(set_dominant_color_year.year, set_dominant_color_year.luminescence)\n",
    "ax[1].scatter(set_dominant_color_year.year, set_dominant_color_year.luminescence)\n",
    "ax[1].set_xlim(left=1979, right=1982)\n",
    "\n",
    "ax[0].set_xlabel(\n",
    "    'Years', \n",
    "    {'fontsize': 16}, \n",
    "    labelpad=15\n",
    ")\n",
    "ax[1].set_xlabel(\n",
    "    'Years', \n",
    "    {'fontsize': 16}, \n",
    "    labelpad=15\n",
    ")\n",
    "\n",
    "\n",
    "ax[0].set_ylabel(\n",
    "    'Luminance of sets', \n",
    "    {'fontsize': 16}, \n",
    "    labelpad=15\n",
    ")\n",
    "ax[1].set_ylabel(\n",
    "    'Luminance of sets', \n",
    "    {'fontsize': 16}, \n",
    "    labelpad=15\n",
    ")\n",
    "\n",
    "ax[0].set_title(\n",
    "    'Luminance of the sets vs their publishing year',\n",
    "    {'fontsize': 20},\n",
    "    pad=20\n",
    ")\n",
    "\n",
    "ax[1].set_title(\n",
    "    'Close up [1979-1981]',\n",
    "    {'fontsize': 20},\n",
    "    pad=20\n",
    ")\n",
    "\n",
    "fig.suptitle(\"Scatter plot of the luminance of the sets vs their publishing year\", fontsize=20)\n",
    "\n",
    "plt.show()"
   ]
  },
  {
   "cell_type": "markdown",
   "metadata": {},
   "source": [
    "## Task B. Drop the bike\n",
    "\n",
    "*Los Angeles Metro* has been sharing publicly [anonymized *Metro Bike Share* trip data](https://bikeshare.metro.net/about/data/) under the [Open Database License (ODbL)](http://opendatacommons.org/licenses/odbl/1.0/).\n",
    "\n",
    "In this task you will again perform data wrangling and interpretation."
   ]
  },
  {
   "cell_type": "markdown",
   "metadata": {},
   "source": [
    "### B1. Loading phase\n",
    "Load the json file into a `DataFrame`.\n"
   ]
  },
  {
   "cell_type": "code",
   "execution_count": 29,
   "metadata": {},
   "outputs": [],
   "source": [
    "BIKES_DATA_FOLDER = DATA_FOLDER + '/bikes'"
   ]
  },
  {
   "cell_type": "markdown",
   "metadata": {},
   "source": [
    "*Trip ID* is set as the key of the dataframe because it is unique and a good candidate key to represent the dataframe"
   ]
  },
  {
   "cell_type": "code",
   "execution_count": 30,
   "metadata": {},
   "outputs": [
    {
     "data": {
      "text/html": [
       "<div>\n",
       "<style scoped>\n",
       "    .dataframe tbody tr th:only-of-type {\n",
       "        vertical-align: middle;\n",
       "    }\n",
       "\n",
       "    .dataframe tbody tr th {\n",
       "        vertical-align: top;\n",
       "    }\n",
       "\n",
       "    .dataframe thead th {\n",
       "        text-align: right;\n",
       "    }\n",
       "</style>\n",
       "<table border=\"1\" class=\"dataframe\">\n",
       "  <thead>\n",
       "    <tr style=\"text-align: right;\">\n",
       "      <th></th>\n",
       "      <th>Bike ID</th>\n",
       "      <th>Duration</th>\n",
       "      <th>End Time</th>\n",
       "      <th>Ending Station ID</th>\n",
       "      <th>Ending Station Latitude</th>\n",
       "      <th>Ending Station Longitude</th>\n",
       "      <th>Passholder Type</th>\n",
       "      <th>Plan Duration</th>\n",
       "      <th>Start Time</th>\n",
       "      <th>Starting Station ID</th>\n",
       "      <th>Starting Station Latitude</th>\n",
       "      <th>Starting Station Longitude</th>\n",
       "      <th>Trip Route Category</th>\n",
       "    </tr>\n",
       "    <tr>\n",
       "      <th>Trip ID</th>\n",
       "      <th></th>\n",
       "      <th></th>\n",
       "      <th></th>\n",
       "      <th></th>\n",
       "      <th></th>\n",
       "      <th></th>\n",
       "      <th></th>\n",
       "      <th></th>\n",
       "      <th></th>\n",
       "      <th></th>\n",
       "      <th></th>\n",
       "      <th></th>\n",
       "      <th></th>\n",
       "    </tr>\n",
       "  </thead>\n",
       "  <tbody>\n",
       "    <tr>\n",
       "      <th>23660991</th>\n",
       "      <td>6183.0</td>\n",
       "      <td>480</td>\n",
       "      <td>2017-03-31T23:52:00</td>\n",
       "      <td>3054.0</td>\n",
       "      <td>34.039219</td>\n",
       "      <td>-118.236488</td>\n",
       "      <td>Walk-up</td>\n",
       "      <td>0.0</td>\n",
       "      <td>2017-03-31T23:44:00</td>\n",
       "      <td>3082.0</td>\n",
       "      <td>34.046520</td>\n",
       "      <td>-118.237411</td>\n",
       "      <td>One Way</td>\n",
       "    </tr>\n",
       "    <tr>\n",
       "      <th>23660990</th>\n",
       "      <td>5900.0</td>\n",
       "      <td>420</td>\n",
       "      <td>2017-03-31T23:52:00</td>\n",
       "      <td>3054.0</td>\n",
       "      <td>34.039219</td>\n",
       "      <td>-118.236488</td>\n",
       "      <td>Walk-up</td>\n",
       "      <td>0.0</td>\n",
       "      <td>2017-03-31T23:45:00</td>\n",
       "      <td>3082.0</td>\n",
       "      <td>34.046520</td>\n",
       "      <td>-118.237411</td>\n",
       "      <td>One Way</td>\n",
       "    </tr>\n",
       "    <tr>\n",
       "      <th>23664826</th>\n",
       "      <td>6207.0</td>\n",
       "      <td>1260</td>\n",
       "      <td>2017-04-01T00:06:00</td>\n",
       "      <td>3029.0</td>\n",
       "      <td>34.048851</td>\n",
       "      <td>-118.246422</td>\n",
       "      <td>Walk-up</td>\n",
       "      <td>0.0</td>\n",
       "      <td>2017-03-31T23:45:00</td>\n",
       "      <td>3078.0</td>\n",
       "      <td>34.064281</td>\n",
       "      <td>-118.238937</td>\n",
       "      <td>One Way</td>\n",
       "    </tr>\n",
       "  </tbody>\n",
       "</table>\n",
       "</div>"
      ],
      "text/plain": [
       "          Bike ID  Duration             End Time  Ending Station ID  \\\n",
       "Trip ID                                                               \n",
       "23660991   6183.0       480  2017-03-31T23:52:00             3054.0   \n",
       "23660990   5900.0       420  2017-03-31T23:52:00             3054.0   \n",
       "23664826   6207.0      1260  2017-04-01T00:06:00             3029.0   \n",
       "\n",
       "          Ending Station Latitude  Ending Station Longitude Passholder Type  \\\n",
       "Trip ID                                                                       \n",
       "23660991                34.039219               -118.236488         Walk-up   \n",
       "23660990                34.039219               -118.236488         Walk-up   \n",
       "23664826                34.048851               -118.246422         Walk-up   \n",
       "\n",
       "          Plan Duration           Start Time  Starting Station ID  \\\n",
       "Trip ID                                                             \n",
       "23660991            0.0  2017-03-31T23:44:00               3082.0   \n",
       "23660990            0.0  2017-03-31T23:45:00               3082.0   \n",
       "23664826            0.0  2017-03-31T23:45:00               3078.0   \n",
       "\n",
       "          Starting Station Latitude  Starting Station Longitude  \\\n",
       "Trip ID                                                           \n",
       "23660991                  34.046520                 -118.237411   \n",
       "23660990                  34.046520                 -118.237411   \n",
       "23664826                  34.064281                 -118.238937   \n",
       "\n",
       "         Trip Route Category  \n",
       "Trip ID                       \n",
       "23660991             One Way  \n",
       "23660990             One Way  \n",
       "23664826             One Way  "
      ]
     },
     "execution_count": 30,
     "metadata": {},
     "output_type": "execute_result"
    }
   ],
   "source": [
    "bikes = pd.read_json(\n",
    "    BIKES_DATA_FOLDER+'/metro-bike-share-trip-data.json.zip',\n",
    "    compression='zip'\n",
    ")\n",
    "\n",
    "# set idx as trip id (trip id is the key of the relation because it is unique)\n",
    "key_rel = 'Trip ID'\n",
    "bikes = bikes.rename({old:new for old, new in zip(bikes.index.values, bikes[key_rel])})\n",
    "bikes.set_index(key_rel, inplace=True)\n",
    "\n",
    "bikes.tail(3)"
   ]
  },
  {
   "cell_type": "markdown",
   "metadata": {},
   "source": [
    "### B2. Cleaning phase\n",
    "Describe the type and the value range of each attribute. Indicate and transform the attributes that are `Categorical`. Are there redundant columns in the dataset (i.e., are there columns whose value depends only on the value of another column)? What are the possible pitfalls of having such columns? Reduce *data redundancy* by extracting such columns to separate `DataFrames`. Which of the two formats (the initial one or the one with reduced data redundancy) is more susceptible to inconsistencies? At the end print for each `Dataframe` the *type of each column* and it's *shape*."
   ]
  },
  {
   "cell_type": "markdown",
   "metadata": {},
   "source": [
    "__\\* Briefly explain your approach here \\*__"
   ]
  },
  {
   "cell_type": "markdown",
   "metadata": {},
   "source": [
    "Types and ranges are shown below. Ranges are only compute on numerical attributes for now."
   ]
  },
  {
   "cell_type": "code",
   "execution_count": 31,
   "metadata": {},
   "outputs": [
    {
     "data": {
      "text/plain": [
       "Bike ID                       float64\n",
       "Duration                        int64\n",
       "End Time                       object\n",
       "Ending Station ID             float64\n",
       "Ending Station Latitude       float64\n",
       "Ending Station Longitude      float64\n",
       "Passholder Type                object\n",
       "Plan Duration                 float64\n",
       "Start Time                     object\n",
       "Starting Station ID           float64\n",
       "Starting Station Latitude     float64\n",
       "Starting Station Longitude    float64\n",
       "Trip Route Category            object\n",
       "dtype: object"
      ]
     },
     "execution_count": 31,
     "metadata": {},
     "output_type": "execute_result"
    }
   ],
   "source": [
    "#  dtype returns a Series with the data type of each column/attribute in bikes\n",
    "bikes.dtypes"
   ]
  },
  {
   "cell_type": "code",
   "execution_count": 32,
   "metadata": {},
   "outputs": [
    {
     "data": {
      "text/html": [
       "<div>\n",
       "<style scoped>\n",
       "    .dataframe tbody tr th:only-of-type {\n",
       "        vertical-align: middle;\n",
       "    }\n",
       "\n",
       "    .dataframe tbody tr th {\n",
       "        vertical-align: top;\n",
       "    }\n",
       "\n",
       "    .dataframe thead th {\n",
       "        text-align: right;\n",
       "    }\n",
       "</style>\n",
       "<table border=\"1\" class=\"dataframe\">\n",
       "  <thead>\n",
       "    <tr style=\"text-align: right;\">\n",
       "      <th></th>\n",
       "      <th>Bike ID</th>\n",
       "      <th>Duration</th>\n",
       "      <th>Ending Station ID</th>\n",
       "      <th>Ending Station Latitude</th>\n",
       "      <th>Ending Station Longitude</th>\n",
       "      <th>Plan Duration</th>\n",
       "      <th>Starting Station ID</th>\n",
       "      <th>Starting Station Latitude</th>\n",
       "      <th>Starting Station Longitude</th>\n",
       "    </tr>\n",
       "  </thead>\n",
       "  <tbody>\n",
       "    <tr>\n",
       "      <th>0</th>\n",
       "      <td>5379.0</td>\n",
       "      <td>86340.0</td>\n",
       "      <td>1108.0</td>\n",
       "      <td>34.064281</td>\n",
       "      <td>118.472832</td>\n",
       "      <td>365.0</td>\n",
       "      <td>1108.0</td>\n",
       "      <td>34.064281</td>\n",
       "      <td>118.472832</td>\n",
       "    </tr>\n",
       "    <tr>\n",
       "      <th>max</th>\n",
       "      <td>6728.0</td>\n",
       "      <td>86400.0</td>\n",
       "      <td>4108.0</td>\n",
       "      <td>34.064281</td>\n",
       "      <td>0.000000</td>\n",
       "      <td>365.0</td>\n",
       "      <td>4108.0</td>\n",
       "      <td>34.064281</td>\n",
       "      <td>0.000000</td>\n",
       "    </tr>\n",
       "    <tr>\n",
       "      <th>min</th>\n",
       "      <td>1349.0</td>\n",
       "      <td>60.0</td>\n",
       "      <td>3000.0</td>\n",
       "      <td>0.000000</td>\n",
       "      <td>-118.472832</td>\n",
       "      <td>0.0</td>\n",
       "      <td>3000.0</td>\n",
       "      <td>0.000000</td>\n",
       "      <td>-118.472832</td>\n",
       "    </tr>\n",
       "  </tbody>\n",
       "</table>\n",
       "</div>"
      ],
      "text/plain": [
       "     Bike ID  Duration  Ending Station ID  Ending Station Latitude  \\\n",
       "0     5379.0   86340.0             1108.0                34.064281   \n",
       "max   6728.0   86400.0             4108.0                34.064281   \n",
       "min   1349.0      60.0             3000.0                 0.000000   \n",
       "\n",
       "     Ending Station Longitude  Plan Duration  Starting Station ID  \\\n",
       "0                  118.472832          365.0               1108.0   \n",
       "max                  0.000000          365.0               4108.0   \n",
       "min               -118.472832            0.0               3000.0   \n",
       "\n",
       "     Starting Station Latitude  Starting Station Longitude  \n",
       "0                    34.064281                  118.472832  \n",
       "max                  34.064281                    0.000000  \n",
       "min                   0.000000                 -118.472832  "
      ]
     },
     "execution_count": 32,
     "metadata": {},
     "output_type": "execute_result"
    }
   ],
   "source": [
    "ranges = pd.concat(\n",
    "    [\n",
    "        bikes.describe().loc['max'] - bikes.describe().loc['min'],\n",
    "        bikes.describe().loc['max'],\n",
    "        bikes.describe().loc['min']\n",
    "    ], \n",
    "    axis=1\n",
    ").T\n",
    "\n",
    "ranges"
   ]
  },
  {
   "cell_type": "markdown",
   "metadata": {},
   "source": [
    "Categorical attributes are indicated and transformed."
   ]
  },
  {
   "cell_type": "code",
   "execution_count": 33,
   "metadata": {},
   "outputs": [
    {
     "name": "stdout",
     "output_type": "stream",
     "text": [
      "['End Time', 'Passholder Type', 'Start Time', 'Trip Route Category']\n"
     ]
    }
   ],
   "source": [
    "# select all attributes that we couldn't compute statistics\n",
    "transform_attributes = [attribute for attribute in bikes.columns.values.tolist() \n",
    "                        if attribute not in ranges.columns.values]\n",
    "print(transform_attributes)\n",
    "\n",
    "# transform these attributes to categorical\n",
    "bikes[transform_attributes] = bikes[transform_attributes].astype(\"category\")"
   ]
  },
  {
   "cell_type": "markdown",
   "metadata": {},
   "source": [
    "Redundant columns (i.e. columns whose value depends only on the value of another column) \n",
    "- Duration, Start Time, End Time\n",
    "- Starting Station ID, Starting Station Latitude, Starting Station Longitude (eg. Station ID identified by GPS coordinates)\n",
    "- Ending Station ID, Ending Station Latitude, Ending Station Longitude"
   ]
  },
  {
   "cell_type": "code",
   "execution_count": 34,
   "metadata": {},
   "outputs": [
    {
     "data": {
      "text/html": [
       "<div>\n",
       "<style scoped>\n",
       "    .dataframe tbody tr th:only-of-type {\n",
       "        vertical-align: middle;\n",
       "    }\n",
       "\n",
       "    .dataframe tbody tr th {\n",
       "        vertical-align: top;\n",
       "    }\n",
       "\n",
       "    .dataframe thead th {\n",
       "        text-align: right;\n",
       "    }\n",
       "</style>\n",
       "<table border=\"1\" class=\"dataframe\">\n",
       "  <thead>\n",
       "    <tr style=\"text-align: right;\">\n",
       "      <th></th>\n",
       "      <th>Bike ID</th>\n",
       "      <th>Duration</th>\n",
       "      <th>Ending Station ID</th>\n",
       "      <th>Passholder Type</th>\n",
       "      <th>Plan Duration</th>\n",
       "      <th>Starting Station ID</th>\n",
       "      <th>Trip Route Category</th>\n",
       "    </tr>\n",
       "    <tr>\n",
       "      <th>Trip ID</th>\n",
       "      <th></th>\n",
       "      <th></th>\n",
       "      <th></th>\n",
       "      <th></th>\n",
       "      <th></th>\n",
       "      <th></th>\n",
       "      <th></th>\n",
       "    </tr>\n",
       "  </thead>\n",
       "  <tbody>\n",
       "    <tr>\n",
       "      <th>1912818</th>\n",
       "      <td>6281.0</td>\n",
       "      <td>180</td>\n",
       "      <td>3014.0</td>\n",
       "      <td>Monthly Pass</td>\n",
       "      <td>30.0</td>\n",
       "      <td>3014.0</td>\n",
       "      <td>Round Trip</td>\n",
       "    </tr>\n",
       "    <tr>\n",
       "      <th>1919661</th>\n",
       "      <td>6281.0</td>\n",
       "      <td>1980</td>\n",
       "      <td>3014.0</td>\n",
       "      <td>Monthly Pass</td>\n",
       "      <td>30.0</td>\n",
       "      <td>3014.0</td>\n",
       "      <td>Round Trip</td>\n",
       "    </tr>\n",
       "    <tr>\n",
       "      <th>1933383</th>\n",
       "      <td>5861.0</td>\n",
       "      <td>300</td>\n",
       "      <td>3016.0</td>\n",
       "      <td>Flex Pass</td>\n",
       "      <td>365.0</td>\n",
       "      <td>3016.0</td>\n",
       "      <td>Round Trip</td>\n",
       "    </tr>\n",
       "  </tbody>\n",
       "</table>\n",
       "</div>"
      ],
      "text/plain": [
       "         Bike ID  Duration  Ending Station ID Passholder Type  Plan Duration  \\\n",
       "Trip ID                                                                        \n",
       "1912818   6281.0       180             3014.0    Monthly Pass           30.0   \n",
       "1919661   6281.0      1980             3014.0    Monthly Pass           30.0   \n",
       "1933383   5861.0       300             3016.0       Flex Pass          365.0   \n",
       "\n",
       "         Starting Station ID Trip Route Category  \n",
       "Trip ID                                           \n",
       "1912818               3014.0          Round Trip  \n",
       "1919661               3014.0          Round Trip  \n",
       "1933383               3016.0          Round Trip  "
      ]
     },
     "execution_count": 34,
     "metadata": {},
     "output_type": "execute_result"
    }
   ],
   "source": [
    "redundant_columns = [\n",
    "    'Start Time', 'End Time', 'Starting Station Latitude', \n",
    "    'Starting Station Longitude','Ending Station Latitude', \n",
    "    'Ending Station Longitude'\n",
    "]\n",
    "\n",
    "start_time = pd.DataFrame(data = bikes['Start Time'], index=bikes.index)\n",
    "end_time = pd.DataFrame(data = bikes['End Time'], index=bikes.index)\n",
    "starting_station = pd.DataFrame(\n",
    "    data = bikes[[\n",
    "        'Starting Station ID',\n",
    "        'Starting Station Latitude', \n",
    "        'Starting Station Longitude'\n",
    "    ]], index=bikes.index\n",
    ")\n",
    "\n",
    "ending_station = pd.DataFrame(\n",
    "    data = bikes[[\n",
    "        'Ending Station ID', \n",
    "        'Ending Station Latitude',\n",
    "        'Ending Station Longitude'\n",
    "    ]], index=bikes.index\n",
    ")\n",
    "# drop redundant columns \n",
    "bikes.drop(redundant_columns, axis=1, inplace=True)\n",
    "bikes.head(3)"
   ]
  },
  {
   "cell_type": "markdown",
   "metadata": {},
   "source": [
    "Pitfalls of having redundant columns in a single dataframe:\n",
    "1. Having many columns in a single dataframe is extra IO and storage cost. Therefore, storing redundant columns as separate dataframes ensures that we only access this subset of columns if needed. \n",
    "2. Having redundant information can lead to inconsistencies in the data: you can miss-type the duration or the starting time. \n",
    "3. By putting these columns in different dataframes, if we were working with a real database, the level of information a user has access to can be controlled. For instance, we could set permissions on different dataframes. *Starting ID* is retained in *bikes*, however the exact GPS coordinates may be stored in a different file, which would restrict user acess to this level of information. \n",
    "\n",
    "The format **with redundancy** is more susceptible to inconsistencies because redundant information increase the occurrence of mistakes and the redundant informations are not linked together: Start Time, End Time, Duration all mean the same but the user cannot see a direct link as in SQL with constraints, primary keys..."
   ]
  },
  {
   "cell_type": "code",
   "execution_count": 35,
   "metadata": {},
   "outputs": [
    {
     "name": "stdout",
     "output_type": "stream",
     "text": [
      "Dataframe type and shape\n",
      "Start Time    category\n",
      "dtype: object (132427, 1)\n",
      "End Time    category\n",
      "dtype: object (132427, 1)\n",
      "Starting Station ID           float64\n",
      "Starting Station Latitude     float64\n",
      "Starting Station Longitude    float64\n",
      "dtype: object (132427, 3)\n",
      "Ending Station ID           float64\n",
      "Ending Station Latitude     float64\n",
      "Ending Station Longitude    float64\n",
      "dtype: object (132427, 3)\n"
     ]
    }
   ],
   "source": [
    "# for each dataframe type of each column and it's shape is printed\n",
    "dataframes_to_print = [start_time, end_time, starting_station, ending_station]\n",
    "\n",
    "print(\"Dataframe type and shape\")\n",
    "for dataframe_x in dataframes_to_print:\n",
    "    print(dataframe_x.dtypes, dataframe_x.shape)"
   ]
  },
  {
   "cell_type": "code",
   "execution_count": 36,
   "metadata": {},
   "outputs": [
    {
     "data": {
      "text/html": [
       "<div>\n",
       "<style scoped>\n",
       "    .dataframe tbody tr th:only-of-type {\n",
       "        vertical-align: middle;\n",
       "    }\n",
       "\n",
       "    .dataframe tbody tr th {\n",
       "        vertical-align: top;\n",
       "    }\n",
       "\n",
       "    .dataframe thead th {\n",
       "        text-align: right;\n",
       "    }\n",
       "</style>\n",
       "<table border=\"1\" class=\"dataframe\">\n",
       "  <thead>\n",
       "    <tr style=\"text-align: right;\">\n",
       "      <th></th>\n",
       "      <th>hours</th>\n",
       "      <th>day</th>\n",
       "    </tr>\n",
       "    <tr>\n",
       "      <th>Trip ID</th>\n",
       "      <th></th>\n",
       "      <th></th>\n",
       "    </tr>\n",
       "  </thead>\n",
       "  <tbody>\n",
       "    <tr>\n",
       "      <th>1912818</th>\n",
       "      <td>04:17:00</td>\n",
       "      <td>2016-07-07</td>\n",
       "    </tr>\n",
       "    <tr>\n",
       "      <th>1919661</th>\n",
       "      <td>06:00:00</td>\n",
       "      <td>2016-07-07</td>\n",
       "    </tr>\n",
       "    <tr>\n",
       "      <th>1933383</th>\n",
       "      <td>10:32:00</td>\n",
       "      <td>2016-07-07</td>\n",
       "    </tr>\n",
       "  </tbody>\n",
       "</table>\n",
       "</div>"
      ],
      "text/plain": [
       "            hours         day\n",
       "Trip ID                      \n",
       "1912818  04:17:00  2016-07-07\n",
       "1919661  06:00:00  2016-07-07\n",
       "1933383  10:32:00  2016-07-07"
      ]
     },
     "execution_count": 36,
     "metadata": {},
     "output_type": "execute_result"
    }
   ],
   "source": [
    "# reformat dates by creating new columns\n",
    "format_raw = \"%Y-%m-%dT%H:%M:%S\"\n",
    "\n",
    "format_hour = lambda x: datetime.strptime(x, format_raw).strftime('%H:%M:%S')\n",
    "format_day = lambda x: datetime.strptime(x, format_raw).strftime('%Y-%m-%d') \n",
    "\n",
    "for df, col in zip([start_time, end_time], [start_time.columns[0], end_time.columns[0]]):\n",
    "    df['hours'] = df[col].apply(format_hour)\n",
    "    df['day'] = df[col].apply(format_day)\n",
    "    df.drop(axis=1, columns=[col], inplace=True)\n",
    "\n",
    "    \n",
    "# restricted to 24h, remove outlier\n",
    "bikes = bikes[bikes['Duration']<5000]\n",
    "\n",
    "start_time.head(3)"
   ]
  },
  {
   "cell_type": "markdown",
   "metadata": {},
   "source": [
    "### B3. Querying phase\n",
    "Answer the following queries using the functionality of `Pandas`.\n",
    "\n",
    "1. Plot the *distribution* of the number of outgoing trips from each station in a histogram with 20 bins (Hint: each bin describes a range of counts, not stations).\n",
    "* Plot histograms for the *duration* and *trip starting hour in the day* attributes. For both the *duration*  and the *trip starting hour* use *discrete 1-hour intervals*. What do you observe in each plot? What are some popular values in the *duration* plot? Explain the local maxima and the trends you observe on the *trip starting hour* plot based on human behavior.\n",
    "* For each *trip route category*, calculate the proportion of trips by *passholder type* and present your results in *a stacked bar chart with normalized height*.\n",
    "* Considering only trips that begin in the morning hours (before noon), plot in *a single bar chart* the proportion of trips by *passholder type* and *trip route category*. Explain any outliers you observe.\n",
    "* Separate the hours of the day into two intervals that have (approximately) the same number of bikes leaving the stations. For each of the two intervals calculate the proportion of trips by *passholder type* and *trip route category*. Present your results in a `DataFrame` which has a unique, non-composite index. Does the proportion of trips depend on whether it is the first or second hour interval? Would the company have any significant benefit by creating a more complex paying scheme where monthly pass users would pay less in the first interval and (equally) more on the second one? Assume that the number of trips per interval will not change if the scheme changes."
   ]
  },
  {
   "cell_type": "markdown",
   "metadata": {},
   "source": [
    "#### Query 1.\n",
    " Find the number of outgoing trips from each station by grouping by *Starting Station ID*. \n",
    " Plot the distribution of the number of outgoing trips from each station in a histogram with 20 bins"
   ]
  },
  {
   "cell_type": "code",
   "execution_count": 37,
   "metadata": {},
   "outputs": [
    {
     "data": {
      "image/png": "[encoded data removed]",
      "text/plain": [
       "<Figure size 936x504 with 1 Axes>"
      ]
     },
     "metadata": {},
     "output_type": "display_data"
    }
   ],
   "source": [
    "outgoingCounts = bikes.groupby('Starting Station ID').agg({'Bike ID':'count'})\n",
    "\n",
    "#renaming:\n",
    "outgoingCounts.columns = ['Outgoing']\n",
    "\n",
    "n_bins = 20\n",
    "\n",
    "fig, ax = plt.subplots(figsize=(13,7))\n",
    "plt.hist(outgoingCounts['Outgoing'], n_bins, facecolor='#9400D3')\n",
    "plt.title('Number of outgoings trips # of stations', fontsize=20, pad=20)\n",
    "plt.xlabel('Outgoing trips', fontsize=18)\n",
    "plt.ylabel('Number of stations',fontsize=18)\n",
    "ax.set_xticks(ticks=np.arange(0,5500,500))\n",
    "\n",
    "plt.show()"
   ]
  },
  {
   "cell_type": "markdown",
   "metadata": {},
   "source": [
    "#### Query 2\n",
    "Compute the frequency of the hours of the trip starting hour in a day to see popular times.\n",
    "We used *hour* field in *start time*. We then plotted the histograms using 1-hour intervals to represent a full 24h day."
   ]
  },
  {
   "cell_type": "code",
   "execution_count": 38,
   "metadata": {},
   "outputs": [
    {
     "data": {
      "image/png": "[encoded data removed]",
      "text/plain": [
       "<Figure size 720x504 with 1 Axes>"
      ]
     },
     "metadata": {},
     "output_type": "display_data"
    }
   ],
   "source": [
    "startingHours = pd.DataFrame(start_time['hours'].str[:2])\n",
    "groupedStartingHours = startingHours.groupby('hours').agg({'hours':'count'}) # grouping because of performances\n",
    "\n",
    "#renaming:\n",
    "groupedStartingHours.columns = ['countedByHours']\n",
    "\n",
    "ind = np.arange(len(groupedStartingHours)) # the x locations for the groups\n",
    "\n",
    "fig, ax = plt.subplots(figsize=(10,7))\n",
    "\n",
    "rects1 = ax.bar(ind, groupedStartingHours['countedByHours'], color='#FF8C00')\n",
    "\n",
    "ax.set_ylabel('Number of trips', fontsize=18)\n",
    "ax.set_xlabel('Hours [h]', fontsize=18)\n",
    "ax.set_title('Number of trips by starting hours', fontsize=20)\n",
    "ax.set_xticks(ind)\n",
    "ax.set_xticklabels(ind+1, {'fontsize': '14'})\n",
    "ax.set_yticks(np.arange(0, 13000, 1000))\n",
    "ax.set_yticklabels(np.arange(0, 13000, 1000), {'fontsize': '12'})\n",
    "plt.show()\n",
    "# ax.set_xticklabels(ind+1, {'fontsize': '14'});"
   ]
  },
  {
   "cell_type": "code",
   "execution_count": 39,
   "metadata": {},
   "outputs": [
    {
     "data": {
      "image/png": "[encoded data removed]",
      "text/plain": [
       "<Figure size 720x504 with 1 Axes>"
      ]
     },
     "metadata": {},
     "output_type": "display_data"
    }
   ],
   "source": [
    "n_bins = 80\n",
    "fig = plt.subplots(figsize=(10,7))\n",
    "plt.hist(bikes['Duration']/60, n_bins)\n",
    "plt.ylabel('Number of times',fontsize=18)\n",
    "plt.xlabel('Duration [min]', fontsize=18)\n",
    "plt.title('Distribution of the duration of trips', fontsize=20, pad=20)\n",
    "\n",
    "plt.show()"
   ]
  },
  {
   "cell_type": "markdown",
   "metadata": {},
   "source": [
    "**Duration plot**\n",
    "We plotted the frequency of durations. Intuitively, short durations should be the most frequent. We expect a fast decrease. After roughly 15 min trip duration, a decrease is seen. All popular values are those less than 15 min.\n",
    "\n",
    "**Trip starting hour plot**\n",
    "Duarnal patterns are observed. Human behaviour and circadian clock (start working, lunch, leave work) can be inferred from such a plot with 3 local maxima (9am, 1pm, 6pm). Around 9am, a first peak emerges depicting people running to work. Around lunchtime (1pm), trips start up again. Finally, around 6pm, bike trips shoot up due to the end of the working day. Also, around 4-5am, bikes trips die down as everyone is sleeping."
   ]
  },
  {
   "cell_type": "markdown",
   "metadata": {},
   "source": [
    "#### Query 3.\n",
    "We select *trip route category*, *passholder type*, *count_trips* \n",
    "from *bikes* \n",
    "and group by *trip route category*, *passholder type*.\n",
    "Then, for each *trip route category*, we sum all the *passholder types* to get the sum of each *trip route category* and finally divide the number of *trip route category* for each *passholder type* by the sum of their respective *trip route category* to get the normalized height."
   ]
  },
  {
   "cell_type": "code",
   "execution_count": 40,
   "metadata": {},
   "outputs": [
    {
     "data": {
      "text/html": [
       "<div>\n",
       "<style scoped>\n",
       "    .dataframe tbody tr th:only-of-type {\n",
       "        vertical-align: middle;\n",
       "    }\n",
       "\n",
       "    .dataframe tbody tr th {\n",
       "        vertical-align: top;\n",
       "    }\n",
       "\n",
       "    .dataframe thead th {\n",
       "        text-align: right;\n",
       "    }\n",
       "</style>\n",
       "<table border=\"1\" class=\"dataframe\">\n",
       "  <thead>\n",
       "    <tr style=\"text-align: right;\">\n",
       "      <th></th>\n",
       "      <th></th>\n",
       "      <th>count_trips</th>\n",
       "    </tr>\n",
       "    <tr>\n",
       "      <th>Trip Route Category</th>\n",
       "      <th>Passholder Type</th>\n",
       "      <th></th>\n",
       "    </tr>\n",
       "  </thead>\n",
       "  <tbody>\n",
       "    <tr>\n",
       "      <th rowspan=\"4\" valign=\"top\">One Way</th>\n",
       "      <th>Flex Pass</th>\n",
       "      <td>7.605252</td>\n",
       "    </tr>\n",
       "    <tr>\n",
       "      <th>Monthly Pass</th>\n",
       "      <td>65.854936</td>\n",
       "    </tr>\n",
       "    <tr>\n",
       "      <th>Staff Annual</th>\n",
       "      <td>0.225831</td>\n",
       "    </tr>\n",
       "    <tr>\n",
       "      <th>Walk-up</th>\n",
       "      <td>26.313982</td>\n",
       "    </tr>\n",
       "    <tr>\n",
       "      <th rowspan=\"4\" valign=\"top\">Round Trip</th>\n",
       "      <th>Flex Pass</th>\n",
       "      <td>3.978543</td>\n",
       "    </tr>\n",
       "    <tr>\n",
       "      <th>Monthly Pass</th>\n",
       "      <td>32.346893</td>\n",
       "    </tr>\n",
       "    <tr>\n",
       "      <th>Staff Annual</th>\n",
       "      <td>0.733125</td>\n",
       "    </tr>\n",
       "    <tr>\n",
       "      <th>Walk-up</th>\n",
       "      <td>62.941439</td>\n",
       "    </tr>\n",
       "  </tbody>\n",
       "</table>\n",
       "</div>"
      ],
      "text/plain": [
       "                                     count_trips\n",
       "Trip Route Category Passholder Type             \n",
       "One Way             Flex Pass           7.605252\n",
       "                    Monthly Pass       65.854936\n",
       "                    Staff Annual        0.225831\n",
       "                    Walk-up            26.313982\n",
       "Round Trip          Flex Pass           3.978543\n",
       "                    Monthly Pass       32.346893\n",
       "                    Staff Annual        0.733125\n",
       "                    Walk-up            62.941439"
      ]
     },
     "execution_count": 40,
     "metadata": {},
     "output_type": "execute_result"
    }
   ],
   "source": [
    "# Query 3 : select trip route category, passholder type, count_trips from bikes and\n",
    "# group by trip route category, passholder type \n",
    "trip_cat_passholder = bikes.groupby(['Trip Route Category', 'Passholder Type']).size().to_frame('count_trips')\n",
    "\n",
    "# sum all passholder type counts by trip route category \n",
    "sum_per_trip_cat = trip_cat_passholder.groupby(level=0).aggregate(np.sum)\n",
    "trip_cat_passholder.merge(right=sum_per_trip_cat, on='Trip Route Category', how='left')\n",
    "\n",
    "# normalize height by dividing for each trip route category and passholder type by sum of their trip route category\n",
    "proportion_trip_pass_normalized = trip_cat_passholder*100/sum_per_trip_cat\n",
    "\n",
    "# to check that the sum of each trip route category sums up 100%\n",
    "checking_trip = (trip_cat_passholder/sum_per_trip_cat).groupby(level=0).aggregate(np.sum)\n",
    "\n",
    "proportion_trip_pass_normalized"
   ]
  },
  {
   "cell_type": "code",
   "execution_count": 41,
   "metadata": {},
   "outputs": [
    {
     "data": {
      "image/png": "[encoded data removed]",
      "text/plain": [
       "<Figure size 720x504 with 1 Axes>"
      ]
     },
     "metadata": {},
     "output_type": "display_data"
    }
   ],
   "source": [
    "# Plot Proportion of trips by passholder type normalized for each trip category using barh stacked\n",
    "ax = proportion_trip_pass_normalized.unstack(level=1).plot(\n",
    "    kind='barh',subplots=False, stacked=True, figsize=(10,7)\n",
    ")\n",
    "\n",
    "ax.set_title(\n",
    "    'Proportion of trips by passholder type normalized for each trip category',\n",
    "    {'fontsize': 20},\n",
    "    pad = 20\n",
    ")\n",
    "\n",
    "ax.legend(['Flex Pass', 'Monthly Pass', 'Staff Annual', 'Walk up'], prop={'size': 18}, bbox_to_anchor=(1.4, 1))\n",
    "ax.set_xlabel('Proportion of trips [%]', {\"fontsize\": 18})\n",
    "ax.set_ylabel('Trip Route Category', {\"fontsize\": 18})\n",
    "\n",
    "plt.show()"
   ]
  },
  {
   "cell_type": "code",
   "execution_count": 42,
   "metadata": {},
   "outputs": [
    {
     "data": {
      "text/html": [
       "<div>\n",
       "<style scoped>\n",
       "    .dataframe tbody tr th:only-of-type {\n",
       "        vertical-align: middle;\n",
       "    }\n",
       "\n",
       "    .dataframe tbody tr th {\n",
       "        vertical-align: top;\n",
       "    }\n",
       "\n",
       "    .dataframe thead th {\n",
       "        text-align: right;\n",
       "    }\n",
       "</style>\n",
       "<table border=\"1\" class=\"dataframe\">\n",
       "  <thead>\n",
       "    <tr style=\"text-align: right;\">\n",
       "      <th></th>\n",
       "      <th></th>\n",
       "      <th>Proportion</th>\n",
       "    </tr>\n",
       "    <tr>\n",
       "      <th>Passholder Type</th>\n",
       "      <th>Trip Route Category</th>\n",
       "      <th></th>\n",
       "    </tr>\n",
       "  </thead>\n",
       "  <tbody>\n",
       "    <tr>\n",
       "      <th rowspan=\"2\" valign=\"top\">Flex Pass</th>\n",
       "      <th>One Way</th>\n",
       "      <td>95.971914</td>\n",
       "    </tr>\n",
       "    <tr>\n",
       "      <th>Round Trip</th>\n",
       "      <td>4.028086</td>\n",
       "    </tr>\n",
       "    <tr>\n",
       "      <th rowspan=\"2\" valign=\"top\">Monthly Pass</th>\n",
       "      <th>One Way</th>\n",
       "      <td>96.050134</td>\n",
       "    </tr>\n",
       "    <tr>\n",
       "      <th>Round Trip</th>\n",
       "      <td>3.949866</td>\n",
       "    </tr>\n",
       "    <tr>\n",
       "      <th rowspan=\"2\" valign=\"top\">Staff Annual</th>\n",
       "      <th>One Way</th>\n",
       "      <td>67.500000</td>\n",
       "    </tr>\n",
       "    <tr>\n",
       "      <th>Round Trip</th>\n",
       "      <td>32.500000</td>\n",
       "    </tr>\n",
       "    <tr>\n",
       "      <th rowspan=\"2\" valign=\"top\">Walk-up</th>\n",
       "      <th>One Way</th>\n",
       "      <td>80.635737</td>\n",
       "    </tr>\n",
       "    <tr>\n",
       "      <th>Round Trip</th>\n",
       "      <td>19.364263</td>\n",
       "    </tr>\n",
       "  </tbody>\n",
       "</table>\n",
       "</div>"
      ],
      "text/plain": [
       "                                     Proportion\n",
       "Passholder Type Trip Route Category            \n",
       "Flex Pass       One Way               95.971914\n",
       "                Round Trip             4.028086\n",
       "Monthly Pass    One Way               96.050134\n",
       "                Round Trip             3.949866\n",
       "Staff Annual    One Way               67.500000\n",
       "                Round Trip            32.500000\n",
       "Walk-up         One Way               80.635737\n",
       "                Round Trip            19.364263"
      ]
     },
     "execution_count": 42,
     "metadata": {},
     "output_type": "execute_result"
    }
   ],
   "source": [
    "# Query 4\n",
    "# select only trips that begin in the morning hours\n",
    "trips_morning = bikes.loc[start_time.hours < '12:00:01']\n",
    "# group by both Passholder Type, Trip Route Category\n",
    "group_trips_moring = trips_morning.groupby(['Passholder Type', 'Trip Route Category']).size().to_frame('Proportion')\n",
    "# Compute percentage per Passholder Type\n",
    "percentages_passholder = group_trips_moring/group_trips_moring.groupby(level=0).aggregate(np.sum)*100\n",
    "percentages_passholder"
   ]
  },
  {
   "cell_type": "code",
   "execution_count": 43,
   "metadata": {},
   "outputs": [
    {
     "data": {
      "image/png": "[encoded data removed]",
      "text/plain": [
       "<Figure size 720x576 with 1 Axes>"
      ]
     },
     "metadata": {},
     "output_type": "display_data"
    }
   ],
   "source": [
    "ax = percentages_passholder.unstack(level=1).plot(\n",
    "    kind='barh', \n",
    "    subplots=False, \n",
    "    figsize=(10, 8),\n",
    "    stacked=True\n",
    ")\n",
    "\n",
    "ax.set_title(\n",
    "    'Proportion trips by passholder type and trip route category',\n",
    "    {'fontsize': 20},\n",
    "    pad=20\n",
    ")\n",
    "ax.set_xlabel('Proportion [%]', {'fontsize': 16})\n",
    "ax.set_ylabel('Passholder types', {'fontsize': 16})\n",
    "ax.legend(['One Way', 'Round Trip'], prop={'size': 18}, bbox_to_anchor=(1.4, 1))\n",
    "\n",
    "plt.show()"
   ]
  },
  {
   "cell_type": "markdown",
   "metadata": {},
   "source": [
    "#### Query 5"
   ]
  },
  {
   "cell_type": "markdown",
   "metadata": {},
   "source": [
    "Select 15h as approx. estimated mediane hour at which the stations show roughly the same number of bike leaving the stations. We merge bikes with the times at which the bikes leave the station. Separate this merged dataframe according to the threshold (15h) chosen before. Finally, groupy by the interval, the passholder and the trip route category.\n",
    "\n",
    "Monthly Pass proportion does not seem to be affected by the time interval --> no benefit for the company"
   ]
  },
  {
   "cell_type": "code",
   "execution_count": 44,
   "metadata": {
    "scrolled": false
   },
   "outputs": [
    {
     "data": {
      "text/html": [
       "<div>\n",
       "<style scoped>\n",
       "    .dataframe tbody tr th:only-of-type {\n",
       "        vertical-align: middle;\n",
       "    }\n",
       "\n",
       "    .dataframe tbody tr th {\n",
       "        vertical-align: top;\n",
       "    }\n",
       "\n",
       "    .dataframe thead th {\n",
       "        text-align: right;\n",
       "    }\n",
       "</style>\n",
       "<table border=\"1\" class=\"dataframe\">\n",
       "  <thead>\n",
       "    <tr style=\"text-align: right;\">\n",
       "      <th></th>\n",
       "      <th>timeSlot</th>\n",
       "      <th>Passholder Type</th>\n",
       "      <th>Trip Route Category</th>\n",
       "      <th>Bike ID</th>\n",
       "    </tr>\n",
       "  </thead>\n",
       "  <tbody>\n",
       "    <tr>\n",
       "      <th>0</th>\n",
       "      <td>0</td>\n",
       "      <td>Flex Pass</td>\n",
       "      <td>One Way</td>\n",
       "      <td>4514</td>\n",
       "    </tr>\n",
       "    <tr>\n",
       "      <th>1</th>\n",
       "      <td>0</td>\n",
       "      <td>Flex Pass</td>\n",
       "      <td>Round Trip</td>\n",
       "      <td>241</td>\n",
       "    </tr>\n",
       "    <tr>\n",
       "      <th>2</th>\n",
       "      <td>0</td>\n",
       "      <td>Monthly Pass</td>\n",
       "      <td>One Way</td>\n",
       "      <td>38867</td>\n",
       "    </tr>\n",
       "    <tr>\n",
       "      <th>3</th>\n",
       "      <td>0</td>\n",
       "      <td>Monthly Pass</td>\n",
       "      <td>Round Trip</td>\n",
       "      <td>1965</td>\n",
       "    </tr>\n",
       "    <tr>\n",
       "      <th>4</th>\n",
       "      <td>0</td>\n",
       "      <td>Staff Annual</td>\n",
       "      <td>One Way</td>\n",
       "      <td>158</td>\n",
       "    </tr>\n",
       "    <tr>\n",
       "      <th>5</th>\n",
       "      <td>0</td>\n",
       "      <td>Staff Annual</td>\n",
       "      <td>Round Trip</td>\n",
       "      <td>56</td>\n",
       "    </tr>\n",
       "    <tr>\n",
       "      <th>6</th>\n",
       "      <td>0</td>\n",
       "      <td>Walk-up</td>\n",
       "      <td>One Way</td>\n",
       "      <td>14491</td>\n",
       "    </tr>\n",
       "    <tr>\n",
       "      <th>7</th>\n",
       "      <td>0</td>\n",
       "      <td>Walk-up</td>\n",
       "      <td>Round Trip</td>\n",
       "      <td>3288</td>\n",
       "    </tr>\n",
       "    <tr>\n",
       "      <th>8</th>\n",
       "      <td>1</td>\n",
       "      <td>Flex Pass</td>\n",
       "      <td>One Way</td>\n",
       "      <td>4343</td>\n",
       "    </tr>\n",
       "    <tr>\n",
       "      <th>9</th>\n",
       "      <td>1</td>\n",
       "      <td>Flex Pass</td>\n",
       "      <td>Round Trip</td>\n",
       "      <td>204</td>\n",
       "    </tr>\n",
       "    <tr>\n",
       "      <th>10</th>\n",
       "      <td>1</td>\n",
       "      <td>Monthly Pass</td>\n",
       "      <td>One Way</td>\n",
       "      <td>37827</td>\n",
       "    </tr>\n",
       "    <tr>\n",
       "      <th>11</th>\n",
       "      <td>1</td>\n",
       "      <td>Monthly Pass</td>\n",
       "      <td>Round Trip</td>\n",
       "      <td>1649</td>\n",
       "    </tr>\n",
       "    <tr>\n",
       "      <th>12</th>\n",
       "      <td>1</td>\n",
       "      <td>Staff Annual</td>\n",
       "      <td>One Way</td>\n",
       "      <td>105</td>\n",
       "    </tr>\n",
       "    <tr>\n",
       "      <th>13</th>\n",
       "      <td>1</td>\n",
       "      <td>Staff Annual</td>\n",
       "      <td>Round Trip</td>\n",
       "      <td>23</td>\n",
       "    </tr>\n",
       "    <tr>\n",
       "      <th>14</th>\n",
       "      <td>1</td>\n",
       "      <td>Walk-up</td>\n",
       "      <td>One Way</td>\n",
       "      <td>16153</td>\n",
       "    </tr>\n",
       "    <tr>\n",
       "      <th>15</th>\n",
       "      <td>1</td>\n",
       "      <td>Walk-up</td>\n",
       "      <td>Round Trip</td>\n",
       "      <td>3751</td>\n",
       "    </tr>\n",
       "  </tbody>\n",
       "</table>\n",
       "</div>"
      ],
      "text/plain": [
       "    timeSlot Passholder Type Trip Route Category  Bike ID\n",
       "0          0       Flex Pass             One Way     4514\n",
       "1          0       Flex Pass          Round Trip      241\n",
       "2          0    Monthly Pass             One Way    38867\n",
       "3          0    Monthly Pass          Round Trip     1965\n",
       "4          0    Staff Annual             One Way      158\n",
       "5          0    Staff Annual          Round Trip       56\n",
       "6          0         Walk-up             One Way    14491\n",
       "7          0         Walk-up          Round Trip     3288\n",
       "8          1       Flex Pass             One Way     4343\n",
       "9          1       Flex Pass          Round Trip      204\n",
       "10         1    Monthly Pass             One Way    37827\n",
       "11         1    Monthly Pass          Round Trip     1649\n",
       "12         1    Staff Annual             One Way      105\n",
       "13         1    Staff Annual          Round Trip       23\n",
       "14         1         Walk-up             One Way    16153\n",
       "15         1         Walk-up          Round Trip     3751"
      ]
     },
     "execution_count": 44,
     "metadata": {},
     "output_type": "execute_result"
    }
   ],
   "source": [
    "#creating DataFrame:\n",
    "hourTreshold = 15; #estimated and approximative mediane\n",
    "\n",
    "bikesCompletes = pd.concat([bikes,start_time],axis = 1, join='inner')\n",
    "\n",
    "bikesCompletes['hours'] = pd.to_numeric(bikesCompletes['hours'].str[:2])\n",
    "\n",
    "bikesCompletes['timeSlot'] = 1\n",
    "bikesCompletes.loc[bikesCompletes['hours'] < hourTreshold, 'timeSlot'] = 0\n",
    "\n",
    "bikesCounts = bikesCompletes.groupby(['timeSlot','Passholder Type','Trip Route Category']).agg({'Bike ID':'count'})\n",
    "\n",
    "bikesCounts = bikesCounts.reset_index()\n",
    "bikesCounts"
   ]
  },
  {
   "cell_type": "code",
   "execution_count": 45,
   "metadata": {},
   "outputs": [
    {
     "data": {
      "text/html": [
       "<div>\n",
       "<style scoped>\n",
       "    .dataframe tbody tr th:only-of-type {\n",
       "        vertical-align: middle;\n",
       "    }\n",
       "\n",
       "    .dataframe tbody tr th {\n",
       "        vertical-align: top;\n",
       "    }\n",
       "\n",
       "    .dataframe thead th {\n",
       "        text-align: right;\n",
       "    }\n",
       "</style>\n",
       "<table border=\"1\" class=\"dataframe\">\n",
       "  <thead>\n",
       "    <tr style=\"text-align: right;\">\n",
       "      <th></th>\n",
       "      <th>Bike ID</th>\n",
       "    </tr>\n",
       "  </thead>\n",
       "  <tbody>\n",
       "    <tr>\n",
       "      <th>2</th>\n",
       "      <td>38867</td>\n",
       "    </tr>\n",
       "    <tr>\n",
       "      <th>3</th>\n",
       "      <td>1965</td>\n",
       "    </tr>\n",
       "    <tr>\n",
       "      <th>10</th>\n",
       "      <td>37827</td>\n",
       "    </tr>\n",
       "    <tr>\n",
       "      <th>11</th>\n",
       "      <td>1649</td>\n",
       "    </tr>\n",
       "  </tbody>\n",
       "</table>\n",
       "</div>"
      ],
      "text/plain": [
       "    Bike ID\n",
       "2     38867\n",
       "3      1965\n",
       "10    37827\n",
       "11     1649"
      ]
     },
     "execution_count": 45,
     "metadata": {},
     "output_type": "execute_result"
    }
   ],
   "source": [
    "# Monthly Pass proportion does not seem to be affected by the time interval \n",
    "# --> no benefit for the company\n",
    "bikesCounts[bikesCounts['Passholder Type'] == 'Monthly Pass']['Bike ID'].to_frame()"
   ]
  }
 ],
 "metadata": {
  "kernelspec": {
   "display_name": "Python 3",
   "language": "python",
   "name": "python3"
  },
  "language_info": {
   "codemirror_mode": {
    "name": "ipython",
    "version": 3
   },
   "file_extension": ".py",
   "mimetype": "text/x-python",
   "name": "python",
   "nbconvert_exporter": "python",
   "pygments_lexer": "ipython3",
   "version": "3.6.5"
  }
 },
 "nbformat": 4,
 "nbformat_minor": 2
}
